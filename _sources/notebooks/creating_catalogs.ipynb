{
 "cells": [
  {
   "cell_type": "markdown",
   "metadata": {},
   "source": [
    "<img src=\"../thumbnail.svg\" width=250 alt=\"Intake Logo\"></img>"
   ]
  },
  {
   "cell_type": "markdown",
   "metadata": {},
   "source": [
    "# Creating Intake Catalogs"
   ]
  },
  {
   "cell_type": "markdown",
   "metadata": {},
   "source": [
    "---"
   ]
  },
  {
   "cell_type": "markdown",
   "metadata": {},
   "source": [
    "## Overview\n",
    "In the last lesson we learned to use Intake catalogs to simplify the process of accessing research data. In this lesson we will walk through the steps of creating a catalog for your research data by recreating the catalog in the previous lesson.\n",
    "\n",
    "1. Creating an Intake catalog\n",
    "1. Documenting your data source\n",
    "1. Share your catalog on Github."
   ]
  },
  {
   "cell_type": "markdown",
   "metadata": {},
   "source": [
    "## Prerequisites\n",
    "\n",
    "\n",
    "| Concepts | Importance | Notes |\n",
    "| --- | --- | --- |\n",
    "| [Intro to Intake](./intake_introduction.ipynb) | Necessary | |\n",
    "| [Understanding of yaml](https://yaml.org/spec/1.2.2/#chapter-1-introduction-to-yaml) | Necessary |  |\n",
    "| [Getting Started with Github](https://foundations.projectpythia.org/foundations/getting-started-github.html) | Necessary | |\n",
    "| [Intro to Pandas](https://foundations.projectpythia.org/core/pandas/pandas.html) | Helpful | |\n",
    "\n",
    "\n",
    "- **Time to learn**: 45 minutes"
   ]
  },
  {
   "cell_type": "markdown",
   "metadata": {},
   "source": [
    "---"
   ]
  },
  {
   "cell_type": "markdown",
   "metadata": {},
   "source": [
    "## Imports"
   ]
  },
  {
   "cell_type": "code",
   "execution_count": null,
   "metadata": {},
   "outputs": [],
   "source": [
    "import intake\n",
    "import intake_xarray\n",
    "import intake_markdown\n",
    "import requests\n",
    "import aiohttp\n",
    "import s3fs\n",
    "import yaml\n",
    "import json\n",
    "import datetime\n",
    "import os"
   ]
  },
  {
   "cell_type": "markdown",
   "metadata": {},
   "source": [
    "## Setting up the Environment\n",
    "\n",
    "By the end of this tutorial we will have created a git repository that we can host on Github to share our catalog. \n",
    "\n",
    "Start by [creating a Github repository](https://docs.github.com/en/get-started/quickstart/create-a-repo) called \"intake-demo\", and then clone the repository to your local machine. Be sure to replace path/to/Github/repository with the name of the repository you just made in the following command.\n",
    "\n",
    "```bash\n",
    "git clone path/to/Github/repository\n",
    "```\n",
    "\n",
    "Intake catalogs can be a simple yaml file. We can create the yaml file programmatically by converting nested python dictionaries to yaml. A Intake catalog has two main parts metadata and sources. The metadata can be arbitrary with a few exceptions. The sources section is a mapping between a data source name and its properties. For more information about Intake catalogs, see Intake's [documentation](https://intake.readthedocs.io/en/latest/catalog.html)"
   ]
  },
  {
   "cell_type": "code",
   "execution_count": null,
   "metadata": {},
   "outputs": [],
   "source": [
    "description = \"Catalog containing Mesowest's HRRR data. See readme source for more information.\"\n",
    "\n",
    "catalog = {'metadata': {'version': 1,\n",
    "                       'description': description},\n",
    "           'sources': {}}\n",
    "\n",
    "os.makedirs(\"intake-demo\", exist_ok=True) #only needed for building this notebook\n",
    "with open('intake-demo/catalog.yml', 'w') as f:\n",
    "    yaml.dump(catalog, f)"
   ]
  },
  {
   "cell_type": "markdown",
   "metadata": {},
   "source": [
    "You will now notice a new file in your \"intake-demo\" directory called \"catalog.yml\" with the following contents."
   ]
  },
  {
   "cell_type": "code",
   "execution_count": null,
   "metadata": {},
   "outputs": [],
   "source": [
    "with open('intake-demo/catalog.yml', 'r') as f:\n",
    "    print(f.read())"
   ]
  },
  {
   "cell_type": "markdown",
   "metadata": {},
   "source": [
    "## Adding Your First Data Source\n",
    "Intake only knows how to handle a few different data formats. To handle other formats it uses plugable drivers. To use the [Mesowest's HRRR Zarr data](https://mesowest.utah.edu/html/hrrr/) we will use the intake-xarray package which provides a driver for reading Zarr data into [Xarray](https://foundations.projectpythia.org/core/xarray.html) datasets. Drivers are installed as python packages and integrate into the Intake library. When intalled Intake creates a open_{driver} method for each driver in the package. Installing the intake-xarray package allows us to access zarr data using the `open_zarr` method.\n",
    "\n",
    "Mesowest's HRRR Zarr data is stored in AWS. The [file structure](https://mesowest.utah.edu/html/hrrr/zarr_documentation/html/zarr_variables.html) of the [hrrrzarr S3 bucket](https://hrrrzarr.s3.amazonaws.com/index.html) looks like \n",
    "\n",
    "s3://hrrrzarr/sfc/yyyymmdd/yyyymmdd_hhz_anl.zarr/level/param/level\n",
    "\n",
    "where\n",
    "\n",
    "- yyyy = four digit year\n",
    "- mm = two digit month\n",
    "- dd = two digit day of month\n",
    "- hh = two digit hour of the day\n",
    "- level = level of atmoshpere the data describes\n",
    "- param = the parameter your interested in\n",
    "\n",
    "To load a complete dataset we need the Zarr arrays from two urls\n",
    "\n",
    "s3://hrrrzarr/sfc/yyyymmdd/yyyymmdd_hhz_anl.zarr/level/param/level\n",
    "\n",
    "s3://hrrrzarr/sfc/yyyymmdd/yyyymmdd_hhz_anl.zarr/level/param\n",
    "\n",
    "\n",
    "Lets load surface temperature data from August 24, 2016"
   ]
  },
  {
   "cell_type": "code",
   "execution_count": null,
   "metadata": {},
   "outputs": [],
   "source": [
    "urls = ['s3://hrrrzarr/sfc/20160824/20160824_00z_anl.zarr/surface/TMP/surface',\n",
    "           's3://hrrrzarr/sfc/20160824/20160824_00z_anl.zarr/surface/TMP']\n",
    "\n",
    "chunks = {'projection_x_coordinate': 1799,\n",
    "          'projection_y_coordinate': 1059}\n",
    "\n",
    "so = {\"anon\": True}\n",
    "\n",
    "source = intake.open_zarr(urls, chunks=chunks, storage_options=so)\n",
    "source.name = 'hrrrzarr'\n",
    "source.description = \"Mesowest's HRRR data. See readme source for more information.\"\n",
    "ds = source.read()\n",
    "ds"
   ]
  },
  {
   "cell_type": "markdown",
   "metadata": {},
   "source": [
    "Above we used the `storage_options` argument to tell Intake how to access data on AWS. In this case we accessed the data as an anonymous user.\n",
    "\n",
    "When you use Intake's `open_{driver}` methods, it creates a catalog entry for the source. You can view the yaml using the source's `yaml` method."
   ]
  },
  {
   "cell_type": "code",
   "execution_count": null,
   "metadata": {},
   "outputs": [],
   "source": [
    "print(source.yaml())"
   ]
  },
  {
   "cell_type": "markdown",
   "metadata": {},
   "source": [
    "### Modifying the Source\n",
    "\n",
    "If we wanted we could add this yaml to our catalog and we could then load this data using Intake. However, there are many datasets we can load from the Zarr store with almost the same catalog entry. Making a separate entry for each would make the catalog cluttered and harder to use. Instead we will generalize this catalog entry so it applies to many datasets. Then we will create user parameters to give the catalog user the abillity to select the data they want.\n",
    "\n",
    "To generalize the source we need Intake to dynamically generate urls pointing to the Zarr arrays based off user set parameters. We will take the source created by the `open_zarr` method convert it to a python dictionary and then modify it to include user parameters. We can then use those parameters to generate the urls. Intake provides Jinja templating in catalogs to make this simple. Let's start by defining user parameters."
   ]
  },
  {
   "cell_type": "code",
   "execution_count": null,
   "metadata": {},
   "outputs": [],
   "source": [
    "source_dict = yaml.load(source.yaml(), Loader=yaml.CLoader)\n",
    "\n",
    "parameters = {}\n",
    "parameters['level'] = {'description': \"Parameter specifying level in the atmosphere. Corresponds to 'Vertical Level' column in data_dictionary\",\n",
    "                       'type': 'str',\n",
    "                       'default': 'surface'}\n",
    "\n",
    "parameters['param'] = {'description': \"Specifies what parameter your dataset will contain. Corresponds to 'Parameter Short Name' in data_dictionary\",\n",
    "                       'type': 'str',\n",
    "                       'default': 'TMP'}\n",
    "\n",
    "parameters['date'] = {'description': \"Date and hour of data.\",\n",
    "                      'type': 'datetime',\n",
    "                      'default': \"2016-08-24T00:00:00\",\n",
    "                      'min': \"2016-08-24T00:00:00\"}\n",
    "\n",
    "\n",
    "\n",
    "sources = source_dict['sources']\n",
    "hrrr_zarr = sources['hrrrzarr']\n",
    "hrrr_zarr['parameters'] = parameters"
   ]
  },
  {
   "cell_type": "markdown",
   "metadata": {},
   "source": [
    "With the parameters defined we can now use them to create the urls using Jinja syntax."
   ]
  },
  {
   "cell_type": "code",
   "execution_count": null,
   "metadata": {},
   "outputs": [],
   "source": [
    "urls = [\"s3://hrrrzarr/sfc/{{date.strftime('%Y%m%d/%Y%m%d_%Hz_anl.zarr')}}/{{level}}/{{param}}\",\n",
    "        \"s3://hrrrzarr/sfc/{{date.strftime('%Y%m%d/%Y%m%d_%Hz_anl.zarr')}}/{{level}}/{{param}}/{{level}}\"]\n",
    "\n",
    "hrrr_zarr['args']['urlpath'] = urls"
   ]
  },
  {
   "cell_type": "markdown",
   "metadata": {},
   "source": [
    "Now that we have a more generalized source, some of the metadata is too specific. To fix this we will just remove the `data_var`section from the source's metadata."
   ]
  },
  {
   "cell_type": "code",
   "execution_count": null,
   "metadata": {
    "tags": []
   },
   "outputs": [],
   "source": [
    "hrrr_zarr['metadata'].pop('data_vars', None)\n",
    "print(yaml.dump(source_dict))"
   ]
  },
  {
   "cell_type": "markdown",
   "metadata": {
    "tags": []
   },
   "source": [
    "## Documenting the Data\n",
    "\n",
    "We have created a data source, but it may be a little tricky to use. We need a way to let users know what options they have for the `level` and `param` user parameters we defined earlier. The inventory.csv file, created from [Mesowest's HRRR Zarr Variable List](https://mesowest.utah.edu/html/hrrr/zarr_documentation/html/zarr_variables.html), in this directory contains a table which shows what parameters are in the Zarr store and at what level in the atmosphere those parameters are available. Let's open it as a source and add it to our source dictionary."
   ]
  },
  {
   "cell_type": "code",
   "execution_count": null,
   "metadata": {
    "tags": []
   },
   "outputs": [],
   "source": [
    "source = intake.open_csv('inventory.csv',\n",
    "                                  csv_kwargs={'keep_default_na': False})\n",
    "source.name = 'data_dictionary'\n",
    "source.description = 'Describes the data in the hrrrzarr source'\n",
    "\n",
    "source.read()"
   ]
  },
  {
   "cell_type": "markdown",
   "metadata": {},
   "source": [
    "The `Vertical Level` column corresponds to the level paremeter in our data source and the `Parameter Short Name` corresponds to the `param` parameter."
   ]
  },
  {
   "cell_type": "code",
   "execution_count": null,
   "metadata": {
    "tags": []
   },
   "outputs": [],
   "source": [
    "source"
   ]
  },
  {
   "cell_type": "markdown",
   "metadata": {},
   "source": [
    "This source is almost how we want it, but the `urlpath` will not work after we push our catalog to Github. Intake sets the `CATALOG_DIR` parameter to point to whatever directory the catalog file is in. Using this parameter we can generate a url that will work even after we push the repository to Github."
   ]
  },
  {
   "cell_type": "code",
   "execution_count": null,
   "metadata": {
    "tags": []
   },
   "outputs": [],
   "source": [
    "sources['data_dictionary'] = yaml.load(source.yaml(), \n",
    "                                       Loader=yaml.CLoader)['sources']['data_dictionary']\n",
    "data_dictionary_args = sources['data_dictionary']['args']\n",
    "data_dictionary_args['urlpath'] = \"{{ CATALOG_DIR }}/inventory.csv\"\n",
    "print(yaml.dump(sources))"
   ]
  },
  {
   "cell_type": "markdown",
   "metadata": {},
   "source": [
    "Your source now points to a inventory.csv file in the same directory as your catalog. Be sure to copy the file into your \"intake-demo\" directory.\n",
    "\n",
    "Now that we have a source and a data dictionary to describe it lets add a readme to our catalog to explain how to use it and give some usage examples. This readme will also be displayed as the readme for the repository on Github. In this directory there is an example readme markdown file to use. Go ahead and copy it into the \"intake-demo\" directory."
   ]
  },
  {
   "cell_type": "code",
   "execution_count": null,
   "metadata": {
    "tags": []
   },
   "outputs": [],
   "source": [
    "md_kwargs = {\"pre\": \"<details markdown='1'>\\n<summary>README</summary>\\n\",\n",
    "             \"post\": \"\\n<br>\\nEnd of README\\n</details>\"}\n",
    "source = intake.open_markdown('README.md', md_kwargs=md_kwargs)\n",
    "source.name = 'readme'\n",
    "source.description = 'Learn more about how to use this catalog'\n",
    "source.read()"
   ]
  },
  {
   "cell_type": "markdown",
   "metadata": {},
   "source": [
    "We will change the urlpath of this source in the same way as the data dictionary to ensure the readme loads correctly."
   ]
  },
  {
   "cell_type": "code",
   "execution_count": null,
   "metadata": {
    "tags": []
   },
   "outputs": [],
   "source": [
    "sources['readme'] = yaml.load(source.yaml(), Loader=yaml.CLoader)['sources']['readme']\n",
    "readme_args = sources['readme']['args']\n",
    "readme_args['urlpath'] = \"{{ CATALOG_DIR }}/README.md\"\n",
    "print(yaml.dump(source_dict))"
   ]
  },
  {
   "cell_type": "markdown",
   "metadata": {},
   "source": [
    "With all our sources made, we will add them to the catalog, and save the catalog."
   ]
  },
  {
   "cell_type": "code",
   "execution_count": null,
   "metadata": {},
   "outputs": [],
   "source": [
    "catalog['sources'] = sources\n",
    "with open('intake-demo/catalog.yml', 'w') as f:\n",
    "    yaml.dump(catalog, f)"
   ]
  },
  {
   "cell_type": "markdown",
   "metadata": {},
   "source": [
    "At this point you should have three files in your \"intake-demo\" directory: \"catalog.yml\", \"inventory.csv\", and \"README.md\". All we need to do now is commit our changes and push them to Github.\n",
    "\n",
    "```bash\n",
    "git add .\n",
    "git commit -m \"initial commit\"\n",
    "git push\n",
    "```"
   ]
  },
  {
   "cell_type": "markdown",
   "metadata": {},
   "source": [
    "## Testing the Catalog\n",
    "\n",
    "Now that your catalog is on Github let's try using it. In the cell below replace `jnmorley` with your own github username."
   ]
  },
  {
   "cell_type": "code",
   "execution_count": null,
   "metadata": {},
   "outputs": [],
   "source": [
    "cat = intake.open_catalog('https://raw.githubusercontent.com/jnmorley/intake-demo/main/catalog.yml')\n",
    "list(cat)"
   ]
  },
  {
   "cell_type": "code",
   "execution_count": null,
   "metadata": {
    "tags": []
   },
   "outputs": [],
   "source": [
    "cat.readme.read()"
   ]
  },
  {
   "cell_type": "code",
   "execution_count": null,
   "metadata": {
    "tags": []
   },
   "outputs": [],
   "source": [
    "cat.data_dictionary.read()"
   ]
  },
  {
   "cell_type": "code",
   "execution_count": null,
   "metadata": {
    "tags": []
   },
   "outputs": [],
   "source": [
    "cat.hrrrzarr.read()"
   ]
  },
  {
   "cell_type": "markdown",
   "metadata": {},
   "source": [
    "---"
   ]
  },
  {
   "cell_type": "markdown",
   "metadata": {},
   "source": [
    "## Summary\n",
    "In this tutorial we learned to create Intake catalogs and host them on Github. We learned to create sources with Intake and then modify them to make them more general. We explored a possible method for documenting data by adding a readme and data dictionary to our catalog. These guidelines will help you make your data more accessible to collaborators. "
   ]
  },
  {
   "cell_type": "markdown",
   "metadata": {},
   "source": [
    "## Resources and references\n",
    "- [Intake Documentation](https://intake.readthedocs.io/en/latest/)\n",
    "- [NOAA High-Resolution Rapid Refresh (HRRR) Data Archive](https://mesowest.utah.edu/html/hrrr/)\n",
    "- [HRRR Zarr Variable List](https://mesowest.utah.edu/html/hrrr/zarr_documentation/html/zarr_variables.html)\n",
    "- [AWS hrrrzarr Bucket](https://hrrrzarr.s3.amazonaws.com/index.html)"
   ]
  }
 ],
 "metadata": {
  "kernelspec": {
   "display_name": "Python 3 (ipykernel)",
   "language": "python",
   "name": "python3"
  },
  "language_info": {
   "codemirror_mode": {
    "name": "ipython",
    "version": 3
   },
   "file_extension": ".py",
   "mimetype": "text/x-python",
   "name": "python",
   "nbconvert_exporter": "python",
   "pygments_lexer": "ipython3",
   "version": "3.10.5"
  },
  "nbdime-conflicts": {
   "local_diff": [
    {
     "diff": [
      {
       "diff": [
        {
         "key": 0,
         "op": "addrange",
         "valuelist": [
          "Python 3"
         ]
        },
        {
         "key": 0,
         "length": 1,
         "op": "removerange"
        }
       ],
       "key": "display_name",
       "op": "patch"
      }
     ],
     "key": "kernelspec",
     "op": "patch"
    }
   ],
   "remote_diff": [
    {
     "diff": [
      {
       "diff": [
        {
         "key": 0,
         "op": "addrange",
         "valuelist": [
          "Python3"
         ]
        },
        {
         "key": 0,
         "length": 1,
         "op": "removerange"
        }
       ],
       "key": "display_name",
       "op": "patch"
      }
     ],
     "key": "kernelspec",
     "op": "patch"
    }
   ]
  },
  "toc-autonumbering": false
 },
 "nbformat": 4,
 "nbformat_minor": 4
}
