{
 "cells": [
  {
   "cell_type": "markdown",
   "metadata": {},
   "source": [
    "<img src=\"../thumbnail.svg\" width=250 alt=\"Intake Logo\"></img>"
   ]
  },
  {
   "cell_type": "markdown",
   "metadata": {},
   "source": [
    "# Introduction to Intake"
   ]
  },
  {
   "cell_type": "markdown",
   "metadata": {},
   "source": [
    "---"
   ]
  },
  {
   "cell_type": "markdown",
   "metadata": {},
   "source": [
    "## Overview\n",
    "[Intake](https://intake.readthedocs.io/en/latest/) is a python library that provides a consistent interface for accessing data regardless of where or how it is stored. In this notebook you will learn to:\n",
    "\n",
    "1. Interact with Intake catalogs\n",
    "1. Use Intake to access data stored in the cloud\n",
    "1. Use Intake to load data into Dask"
   ]
  },
  {
   "cell_type": "markdown",
   "metadata": {},
   "source": [
    "## Prerequisites\n",
    "\n",
    "| Concepts | Importance | Notes |\n",
    "| --- | --- | --- |\n",
    "| [Times and Dates in Python](https://foundations.projectpythia.org/core/datetime/datetime.html) | Necessary | |\n",
    "| [Intro to Xarray](https://foundations.projectpythia.org/core/xarray/xarray-intro.html) | Necessary | |\n",
    "| [Intro to Cartopy](https://foundations.projectpythia.org/core/cartopy/cartopy.html) | Helpful | |\n",
    "| [Understanding of Zarr](https://zarr.readthedocs.io/en/stable/) | Helpful | |\n",
    "| [Understanding of Dask](https://www.dask.org/) | Helpful | |\n",
    "\n",
    "\n",
    "- **Time to learn**: 45 minutes"
   ]
  },
  {
   "cell_type": "markdown",
   "metadata": {},
   "source": [
    "---"
   ]
  },
  {
   "cell_type": "markdown",
   "metadata": {},
   "source": [
    "## Imports"
   ]
  },
  {
   "cell_type": "code",
   "execution_count": null,
   "metadata": {},
   "outputs": [],
   "source": [
    "import intake\n",
    "import xarray as xr\n",
    "import datetime as dt\n",
    "import metpy\n",
    "import matplotlib.pyplot as plt\n",
    "import cartopy.crs as ccrs\n",
    "import requests\n",
    "import aiohttp\n",
    "import intake_xarray"
   ]
  },
  {
   "cell_type": "markdown",
   "metadata": {},
   "source": [
    "## Interacting with Intake Catalogs"
   ]
  },
  {
   "cell_type": "markdown",
   "metadata": {},
   "source": [
    "Intake uses an object called a catalog to inform users what datasets are available to them. These catalogs can be in the form of a yaml file, a server, or a python package you install. In this example we will use a catalog to access [Mesowest's HRRR data](https://mesowest.utah.edu/html/hrrr/) stored on AWS S3. To open a catalog use Intake's `open_catalog` method with the location of the catalog as an argument. The catalog object created by calling `open_catalog` is iterable, so you can see what data sources are available to you by passing your catalog object as an argument to python's `list` function. You can view the [catalog file](https://github.com/ProjectPythiaCookbooks/intake-cookbook/blob/main/notebooks/catalog.yml) used for this cookbook on Github."
   ]
  },
  {
   "cell_type": "code",
   "execution_count": null,
   "metadata": {},
   "outputs": [],
   "source": [
    "cat = intake.open_catalog('catalog.yml')\n",
    "list(cat)"
   ]
  },
  {
   "cell_type": "markdown",
   "metadata": {},
   "source": [
    "Each of the catalog's sources are accessible as properties of your catalog object."
   ]
  },
  {
   "cell_type": "code",
   "execution_count": null,
   "metadata": {},
   "outputs": [],
   "source": [
    "cat.hrrrzarr"
   ]
  },
  {
   "cell_type": "markdown",
   "metadata": {
    "tags": []
   },
   "source": [
    "### Learning About Catalog Entries"
   ]
  },
  {
   "cell_type": "markdown",
   "metadata": {},
   "source": [
    "The first place you can look for information about a catalog source is it's description. That is stored in the data sources's `description` property."
   ]
  },
  {
   "cell_type": "code",
   "execution_count": null,
   "metadata": {},
   "outputs": [],
   "source": [
    "cat.hrrrzarr.description"
   ]
  },
  {
   "cell_type": "markdown",
   "metadata": {},
   "source": [
    "To get a better look at a source in a Intake catalog, call it's `describe` method"
   ]
  },
  {
   "cell_type": "code",
   "execution_count": null,
   "metadata": {},
   "outputs": [],
   "source": [
    "desc = cat.hrrrzarr.describe()\n",
    "desc"
   ]
  },
  {
   "cell_type": "markdown",
   "metadata": {},
   "source": [
    "From this Python dictionary, there are a few things that we can learn. The `container` key tells us what form the data will be in when we read it. In this case it will be a [Xarray](https://foundations.projectpythia.org/core/xarray.html) `Dataset` The `user_parameters` key has a list containing parameters a user can set to control what data they get. The `metadata` key contains an arbitrary dictionary of information specified by the catalog author. A common things to find in the `metadata` field are plots you can use to get a quick peak at the data."
   ]
  },
  {
   "cell_type": "markdown",
   "metadata": {},
   "source": [
    "## Reading Data with Intake\n",
    "Now that we know how to explore Intake catalogs, let's use one to get some data. Luckily Intake makes this a really easy one-liner."
   ]
  },
  {
   "cell_type": "code",
   "execution_count": null,
   "metadata": {},
   "outputs": [],
   "source": [
    "cat.hrrrzarr.read()"
   ]
  },
  {
   "cell_type": "markdown",
   "metadata": {},
   "source": [
    "<div class=\"admonition alert alert-info\">\n",
    "    <p class=\"admonition-title\" style=\"font-weight:bold\">Info</p>\n",
    "    Intake catalogs access data lazily. You can explore that catalog all you want, but you won't have any data until use call the <code>read</code> or simillar methods. The <code>read</code> method may take longer to run depending on your internet connection, the size of the data, and your proximity to the data center where the data is stored.\n",
    "</div>\n",
    "\n",
    "When we look at the description of the hrrrzarr source it referenced the readme source. We can look at it using the same method. Pay attention to the projection information. It will be useful later."
   ]
  },
  {
   "cell_type": "code",
   "execution_count": null,
   "metadata": {},
   "outputs": [],
   "source": [
    "cat.readme.read()"
   ]
  },
  {
   "cell_type": "markdown",
   "metadata": {
    "tags": []
   },
   "source": [
    "### Specifying User Parameters\n",
    "\n",
    "The hrrrzarr sources in this catalog has three parameters that can be used to control what data you will read in. To list those use the `user_parameters` key on the description dictionary created above."
   ]
  },
  {
   "cell_type": "code",
   "execution_count": null,
   "metadata": {},
   "outputs": [],
   "source": [
    "desc['user_parameters']"
   ]
  },
  {
   "cell_type": "markdown",
   "metadata": {},
   "source": [
    "Each user parameter can have a name, description, type, defualt, allowed, min, and max key. You can learn more about [parameter definitions](https://intake.readthedocs.io/en/latest/catalog.html#parameter-definition) in Intake's documentation. This data source contains three user parameters: `date`, `level`, and `param`. Each parameter's descriptions explain what they are for. The `level` and `param` parameter allow you to select data based on level in the atmosphere and variable being measured. There allowed values correspond to values in the \"Vertical Level\" and \"Parameter Short Name\" column in the data_dictionary source repectively. The `date` parameter allows you to select data by date."
   ]
  },
  {
   "cell_type": "code",
   "execution_count": null,
   "metadata": {},
   "outputs": [],
   "source": [
    "data_dictionary = cat.data_dictionary.read()\n",
    "data_dictionary.query(\"`Vertical Level` == 'surface'\")[:10]"
   ]
  },
  {
   "cell_type": "markdown",
   "metadata": {},
   "source": [
    "Lets use parameters to select surface temperature data from June 20, 2021. We can provide these parameter by passing keyword arguments to the data source. "
   ]
  },
  {
   "cell_type": "code",
   "execution_count": null,
   "metadata": {},
   "outputs": [],
   "source": [
    "summer_solstice_2021 = dt.datetime(2021, 6, 20)\n",
    "source = cat.hrrrzarr(date=summer_solstice_2021, level='surface', param='TMP')\n",
    "source.read()"
   ]
  },
  {
   "cell_type": "markdown",
   "metadata": {},
   "source": [
    "Your data source now points to surface temperature data taken June 20, 2021 "
   ]
  },
  {
   "cell_type": "markdown",
   "metadata": {},
   "source": [
    "### A More Complicated Example"
   ]
  },
  {
   "cell_type": "markdown",
   "metadata": {},
   "source": [
    "Mesowest provides a [tutorial](https://mesowest.utah.edu/html/hrrr/zarr_documentation/html/xarray_one_day_analysis_example.html) for reading a days worth of surface temperature HRRR data from AWS. Lets see what the same task looks like using Intake.\n",
    "\n",
    "We will start by setting up our [Cartopy](https://foundations.projectpythia.org/core/cartopy.html) projection according to the information given in the readme source."
   ]
  },
  {
   "cell_type": "code",
   "execution_count": null,
   "metadata": {},
   "outputs": [],
   "source": [
    "projection = ccrs.LambertConformal(central_longitude=262.5, \n",
    "                                   central_latitude=38.5, \n",
    "                                   standard_parallels=(38.5, 38.5),\n",
    "                                    globe=ccrs.Globe(semimajor_axis=6371229,\n",
    "                                                     semiminor_axis=6371229))"
   ]
  },
  {
   "cell_type": "markdown",
   "metadata": {},
   "source": [
    "Now lets read in the data with Intake. To do this will create a [datetime](https://foundations.projectpythia.org/core/datetime.html) object with the date August 9, 2019. Then we will use list comprehension and `timedelta` objects to create a [datetime](https://foundations.projectpythia.org/core/datetime.html) object for each hour that day. Again, using list comprehension, we will create a list of datasets using Intake. In order to concatenate our list of datasets using [Xarray](https://foundations.projectpythia.org/core/xarray.html), we need a dimension to concatenate accross. Each dataset in our list contains a time variable with an array of just one timestamp. We can promote that variable to a coordinate using the `set_coords` method. This may take a few minutes to run."
   ]
  },
  {
   "cell_type": "code",
   "execution_count": null,
   "metadata": {},
   "outputs": [],
   "source": [
    "%%time\n",
    "date = dt.datetime(2019, 8, 10)\n",
    "hours = [date + dt.timedelta(hours=i) for i in range(24)]\n",
    "datasets = [cat.hrrrzarr(date=hour).read().set_coords(\"time\") for hour in hours]\n",
    "ds = xr.concat(datasets, dim='time', combine_attrs=\"drop_conflicts\")\n",
    "ds"
   ]
  },
  {
   "cell_type": "markdown",
   "metadata": {},
   "source": [
    "Now our data is ready to be analyzed in the normal way using [Xarray](https://foundations.projectpythia.org/core/xarray.html)."
   ]
  },
  {
   "cell_type": "code",
   "execution_count": null,
   "metadata": {},
   "outputs": [],
   "source": [
    "avg_TMP = ds.TMP.mean(dim='time')\n",
    "fig = plt.figure(figsize=(10, 8.5))\n",
    "ax = fig.add_subplot(1, 1, 1, projection=projection)\n",
    "temp_plot = ax.contourf(avg_TMP.projection_x_coordinate, avg_TMP.projection_y_coordinate, avg_TMP)\n",
    "ax.coastlines()\n",
    "fig.colorbar(temp_plot, orientation=\"horizontal\")\n",
    "\n",
    "plt.show()"
   ]
  },
  {
   "cell_type": "markdown",
   "metadata": {
    "tags": []
   },
   "source": [
    "### Using Intake with Dask\n",
    "Often times the data we want to analyze is too big to be loaded into memory all at once on your computer. [Dask]() solves this problem by breaking up your data into smaller chunks, operating on each chunck of data, and then aggregating the results. This is usually done in parallel on a cluster system. You can use Intake to create a Dask dataset by using the `to_dask` method instead of the `read` method."
   ]
  },
  {
   "cell_type": "code",
   "execution_count": null,
   "metadata": {},
   "outputs": [],
   "source": [
    "ds1 = cat.hrrrzarr(date=dt.datetime(2021, 1, 1)).read()\n",
    "print(type(ds1.TMP.data))\n",
    "\n",
    "ds2 = cat.hrrrzarr(date=dt.datetime(2022, 1, 1)).to_dask()\n",
    "print(type(ds2.TMP.data))"
   ]
  },
  {
   "cell_type": "markdown",
   "metadata": {},
   "source": [
    "As you can see [Xarray](https://foundations.projectpythia.org/core/xarray.html) uses Dask arrays instead of [NumPy](https://foundations.projectpythia.org/core/numpy.html) arrays to hold the data when the `to_dask` method is used."
   ]
  },
  {
   "cell_type": "markdown",
   "metadata": {},
   "source": [
    "---"
   ]
  },
  {
   "cell_type": "markdown",
   "metadata": {},
   "source": [
    "## Summary\n",
    "- Intake makes it easy to consistently access data regardless of where and how it is stored\n",
    "- Intake catalogs contain useful information about the data they make available\n",
    "- Intake can load data into Dask for use in parallel computing. \n",
    "\n",
    "### What's next?\n",
    "In the next notebook we will look at writing a Intake catalog and making it available on [Github](https://foundations.projectpythia.org/foundations/getting-started-github.html)."
   ]
  },
  {
   "cell_type": "markdown",
   "metadata": {},
   "source": [
    "## Resources and references\n",
    "\n",
    "- [HRRR Zarr Example Using XArray (Mesowest)](https://mesowest.utah.edu/html/hrrr/zarr_documentation/html/xarray_one_day_analysis_example.html)\n",
    "- [Intake Documentation](https://intake.readthedocs.io/en/latest/index.html)\n",
    "- [NOAA High-Resolution Rapid Refresh (HRRR) Data Archive](https://mesowest.utah.edu/html/hrrr/)\n",
    "- [HRRR Zarr Variable List](https://mesowest.utah.edu/html/hrrr/zarr_documentation/html/zarr_variables.html)"
   ]
  }
 ],
 "metadata": {
  "kernelspec": {
   "display_name": "Python 3 (ipykernel)",
   "language": "python",
   "name": "python3"
  },
  "language_info": {
   "codemirror_mode": {
    "name": "ipython",
    "version": 3
   },
   "file_extension": ".py",
   "mimetype": "text/x-python",
   "name": "python",
   "nbconvert_exporter": "python",
   "pygments_lexer": "ipython3",
   "version": "3.10.5"
  },
  "nbdime-conflicts": {
   "local_diff": [
    {
     "diff": [
      {
       "diff": [
        {
         "key": 0,
         "op": "addrange",
         "valuelist": [
          "Python 3"
         ]
        },
        {
         "key": 0,
         "length": 1,
         "op": "removerange"
        }
       ],
       "key": "display_name",
       "op": "patch"
      }
     ],
     "key": "kernelspec",
     "op": "patch"
    }
   ],
   "remote_diff": [
    {
     "diff": [
      {
       "diff": [
        {
         "key": 0,
         "op": "addrange",
         "valuelist": [
          "Python3"
         ]
        },
        {
         "key": 0,
         "length": 1,
         "op": "removerange"
        }
       ],
       "key": "display_name",
       "op": "patch"
      }
     ],
     "key": "kernelspec",
     "op": "patch"
    }
   ]
  },
  "toc-autonumbering": false
 },
 "nbformat": 4,
 "nbformat_minor": 4
}
